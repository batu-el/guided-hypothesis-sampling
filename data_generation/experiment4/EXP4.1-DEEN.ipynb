{
 "cells": [
  {
   "cell_type": "code",
   "execution_count": null,
   "metadata": {
    "colab": {
     "base_uri": "https://localhost:8080/"
    },
    "executionInfo": {
     "elapsed": 3058,
     "status": "ok",
     "timestamp": 1704689118231,
     "user": {
      "displayName": "Batu El",
      "userId": "11666366648103508022"
     },
     "user_tz": -180
    },
    "id": "UTvYHHqJa6HZ",
    "outputId": "62275168-9ea8-4197-ad1a-3e972b41e251"
   },
   "outputs": [],
   "source": [
    "from google.colab import drive\n",
    "drive.mount('/content/drive', force_remount=True)\n",
    "drive_PATH = '../content/drive/MyDrive/Colab Notebooks/l101.experiments.1'"
   ]
  },
  {
   "cell_type": "code",
   "execution_count": null,
   "metadata": {
    "colab": {
     "base_uri": "https://localhost:8080/"
    },
    "executionInfo": {
     "elapsed": 7314,
     "status": "ok",
     "timestamp": 1704689127239,
     "user": {
      "displayName": "Batu El",
      "userId": "11666366648103508022"
     },
     "user_tz": -180
    },
    "id": "OirnAWKBdbZI",
    "outputId": "7cb6cf1b-3a5d-4627-df11-718d48a6ef48"
   },
   "outputs": [],
   "source": [
    "!pip install jsonlines datasets git+https://github.com/google-research/bleurt.git evaluate sacrebleu"
   ]
  },
  {
   "cell_type": "code",
   "execution_count": null,
   "metadata": {
    "executionInfo": {
     "elapsed": 397,
     "status": "ok",
     "timestamp": 1704689127634,
     "user": {
      "displayName": "Batu El",
      "userId": "11666366648103508022"
     },
     "user_tz": -180
    },
    "id": "NM52e_0lhwtM"
   },
   "outputs": [],
   "source": [
    "\n",
    "import jsonlines\n",
    "data_PATH = drive_PATH + '/data-main/exp2.1.deen-n128-t1-e0.02.jsonl'\n",
    "data = []\n",
    "\n",
    "with jsonlines.open(data_PATH) as f:\n",
    "    for line in f.iter():\n",
    "        data.append(line)"
   ]
  },
  {
   "cell_type": "code",
   "execution_count": null,
   "metadata": {
    "colab": {
     "base_uri": "https://localhost:8080/",
     "height": 144
    },
    "executionInfo": {
     "elapsed": 5724,
     "status": "ok",
     "timestamp": 1704689133355,
     "user": {
      "displayName": "Batu El",
      "userId": "11666366648103508022"
     },
     "user_tz": -180
    },
    "id": "2npOOCCtpySj",
    "outputId": "a37c6af4-1413-4e67-a142-7613f0fb1f74"
   },
   "outputs": [],
   "source": [
    "import tqdm\n",
    "import jsonlines\n",
    "import sys\n",
    "import numpy as np\n",
    "\n",
    "# Eval - BLEURT\n",
    "from datasets import load_metric\n",
    "bleurt = load_metric('bleurt', 'BLEURT-20-D3')"
   ]
  },
  {
   "cell_type": "code",
   "execution_count": null,
   "metadata": {
    "executionInfo": {
     "elapsed": 6,
     "status": "ok",
     "timestamp": 1704689133355,
     "user": {
      "displayName": "Batu El",
      "userId": "11666366648103508022"
     },
     "user_tz": -180
    },
    "id": "1NaMDfe6N8rE"
   },
   "outputs": [],
   "source": [
    "def BLEURT_mbrd(candidates):\n",
    "  k_samples = len(candidates)\n",
    "  score_matrix = np.zeros((k_samples, k_samples))\n",
    "\n",
    "  for j1 in range(k_samples):\n",
    "    references=[candidates[j1][0] for j2 in range(k_samples)]\n",
    "    predictions=[candidates[j2][0] for j2 in range(k_samples)]\n",
    "    scores = bleurt.compute(predictions=predictions, references=references)['scores']\n",
    "    score_matrix[ : ,j1] = scores\n",
    "\n",
    "  # remove votes for self\n",
    "  for j1 in range(k_samples):\n",
    "    for j2 in range(k_samples):\n",
    "      if j1 == j2:\n",
    "        score_matrix[j2,j1] = 0\n",
    "\n",
    "  sum_scores = np.sum(score_matrix, axis=1)\n",
    "  index = np.argmax(sum_scores)\n",
    "  mbr_winner = candidates[index]\n",
    "\n",
    "  return mbr_winner, index, sum_scores, score_matrix"
   ]
  },
  {
   "cell_type": "code",
   "execution_count": null,
   "metadata": {
    "colab": {
     "base_uri": "https://localhost:8080/"
    },
    "executionInfo": {
     "elapsed": 33931938,
     "status": "ok",
     "timestamp": 1704723065288,
     "user": {
      "displayName": "Batu El",
      "userId": "11666366648103508022"
     },
     "user_tz": -180
    },
    "id": "0VLDC-Qjpzx1",
    "outputId": "1e14e821-2735-4fde-9c9d-ea320b85befc"
   },
   "outputs": [],
   "source": [
    "dataset_name = 'DEEN'\n",
    "num_examples = 1000\n",
    "assert(num_examples == len(data))\n",
    "num_candidates = 128\n",
    "dataset = data\n",
    "for j in tqdm.tqdm(range(num_examples)):\n",
    "    predictions=[dataset[j]['candidates'][i][0] for i in range(num_candidates)]\n",
    "    references=[dataset[j]['ref'] for i in range(num_candidates)]\n",
    "    dataset[j]['BLEURT_cand_scores'] = np.array(bleurt.compute(predictions=predictions, references=references)['scores'], dtype=float).tolist()\n",
    "    # MBR BLEURT\n",
    "    mbr_winner, index, sum_scores, score_matrix = BLEURT_mbrd(dataset[j]['candidates'])\n",
    "    dataset[j]['MBR_BLEURT_winner'] = mbr_winner\n",
    "    dataset[j]['MBR_BLEURT_winner_index'] = int(index)\n",
    "    dataset[j]['MBR_BLEURT_cand_scores'] = sum_scores.tolist()\n",
    "    dataset[j]['MBR_BLEURT_score_matrix'] = score_matrix.tolist()\n",
    "\n",
    "bleurt_dataset_PATH = drive_PATH+ f'/data-main/bleurt-{dataset_name}.jsonl'\n",
    "with jsonlines.open(bleurt_dataset_PATH, mode='w') as writer:\n",
    "    for item in dataset:\n",
    "        writer.write(item)"
   ]
  },
  {
   "cell_type": "code",
   "execution_count": null,
   "metadata": {
    "id": "zeSj36YqVMRb"
   },
   "outputs": [],
   "source": []
  }
 ],
 "metadata": {
  "accelerator": "GPU",
  "colab": {
   "authorship_tag": "ABX9TyO4q8VqgH96gNKZU4sHllGB",
   "gpuType": "A100",
   "machine_shape": "hm",
   "provenance": []
  },
  "kernelspec": {
   "display_name": "Python 3",
   "name": "python3"
  },
  "language_info": {
   "name": "python"
  }
 },
 "nbformat": 4,
 "nbformat_minor": 0
}
