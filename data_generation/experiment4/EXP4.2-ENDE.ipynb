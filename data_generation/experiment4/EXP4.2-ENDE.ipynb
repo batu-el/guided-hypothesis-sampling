{
 "cells": [
  {
   "cell_type": "code",
   "execution_count": null,
   "metadata": {
    "colab": {
     "base_uri": "https://localhost:8080/"
    },
    "executionInfo": {
     "elapsed": 5707,
     "status": "ok",
     "timestamp": 1704689137609,
     "user": {
      "displayName": "Batu El",
      "userId": "11666366648103508022"
     },
     "user_tz": -180
    },
    "id": "hhD9_p9XMybo",
    "outputId": "c22756ea-1303-4e8f-f4e9-6f00d9953b1f"
   },
   "outputs": [],
   "source": [
    "from google.colab import drive\n",
    "drive.mount('/content/drive', force_remount=True)\n",
    "drive_PATH = '../content/drive/MyDrive/Colab Notebooks/l101.experiments.1'"
   ]
  },
  {
   "cell_type": "code",
   "execution_count": null,
   "metadata": {
    "colab": {
     "base_uri": "https://localhost:8080/"
    },
    "executionInfo": {
     "elapsed": 7362,
     "status": "ok",
     "timestamp": 1704689144968,
     "user": {
      "displayName": "Batu El",
      "userId": "11666366648103508022"
     },
     "user_tz": -180
    },
    "id": "ZmxtJQGzNUe3",
    "outputId": "df082d19-a11d-4e74-985a-a417df68c68b"
   },
   "outputs": [],
   "source": [
    "!pip install jsonlines datasets git+https://github.com/google-research/bleurt.git evaluate sacrebleu"
   ]
  },
  {
   "cell_type": "code",
   "execution_count": null,
   "metadata": {
    "executionInfo": {
     "elapsed": 6,
     "status": "ok",
     "timestamp": 1704689144968,
     "user": {
      "displayName": "Batu El",
      "userId": "11666366648103508022"
     },
     "user_tz": -180
    },
    "id": "GQrKrn0hNVAR"
   },
   "outputs": [],
   "source": [
    "import jsonlines\n",
    "data_PATH = drive_PATH + '/data-main/exp2.2.ende-n128-t1-e0.02.jsonl'\n",
    "data = []\n",
    "\n",
    "with jsonlines.open(data_PATH) as f:\n",
    "    for line in f.iter():\n",
    "        data.append(line)"
   ]
  },
  {
   "cell_type": "code",
   "execution_count": null,
   "metadata": {
    "colab": {
     "base_uri": "https://localhost:8080/",
     "height": 144
    },
    "executionInfo": {
     "elapsed": 6875,
     "status": "ok",
     "timestamp": 1704689151839,
     "user": {
      "displayName": "Batu El",
      "userId": "11666366648103508022"
     },
     "user_tz": -180
    },
    "id": "CvMqc4T7N01-",
    "outputId": "a5515177-cf89-463c-e993-fcc311820e7c"
   },
   "outputs": [],
   "source": [
    "import tqdm\n",
    "import jsonlines\n",
    "import sys\n",
    "import numpy as np\n",
    "\n",
    "# Eval - BLEURT\n",
    "from datasets import load_metric\n",
    "bleurt = load_metric('bleurt', 'BLEURT-20-D3')"
   ]
  },
  {
   "cell_type": "code",
   "execution_count": null,
   "metadata": {
    "executionInfo": {
     "elapsed": 5,
     "status": "ok",
     "timestamp": 1704689151840,
     "user": {
      "displayName": "Batu El",
      "userId": "11666366648103508022"
     },
     "user_tz": -180
    },
    "id": "rbVqqNSTN7dR"
   },
   "outputs": [],
   "source": [
    "def BLEURT_mbrd(candidates):\n",
    "  k_samples = len(candidates)\n",
    "  score_matrix = np.zeros((k_samples, k_samples))\n",
    "\n",
    "  for j1 in range(k_samples):\n",
    "    references=[candidates[j1][0] for j2 in range(k_samples)]\n",
    "    predictions=[candidates[j2][0] for j2 in range(k_samples)]\n",
    "    scores = bleurt.compute(predictions=predictions, references=references)['scores']\n",
    "    score_matrix[ : ,j1] = scores\n",
    "\n",
    "  # remove votes for self\n",
    "  for j1 in range(k_samples):\n",
    "    for j2 in range(k_samples):\n",
    "      if j1 == j2:\n",
    "        score_matrix[j2,j1] = 0\n",
    "\n",
    "  sum_scores = np.sum(score_matrix, axis=1)\n",
    "  index = np.argmax(sum_scores)\n",
    "  mbr_winner = candidates[index]\n",
    "\n",
    "  return mbr_winner, index, sum_scores, score_matrix"
   ]
  },
  {
   "cell_type": "code",
   "execution_count": null,
   "metadata": {
    "colab": {
     "base_uri": "https://localhost:8080/"
    },
    "executionInfo": {
     "elapsed": 33787474,
     "status": "ok",
     "timestamp": 1704723583804,
     "user": {
      "displayName": "Batu El",
      "userId": "11666366648103508022"
     },
     "user_tz": -180
    },
    "id": "lXs2Ec0vUbxk",
    "outputId": "0eef83a0-d3ac-475f-dbac-e0c6d39e7076"
   },
   "outputs": [],
   "source": [
    "dataset_name = 'ENDE'\n",
    "num_examples = 1000\n",
    "assert(num_examples == len(data))\n",
    "num_candidates = 128\n",
    "dataset = data\n",
    "for j in tqdm.tqdm(range(num_examples)):\n",
    "    predictions=[dataset[j]['candidates'][i][0] for i in range(num_candidates)]\n",
    "    references=[dataset[j]['ref'] for i in range(num_candidates)]\n",
    "    dataset[j]['BLEURT_cand_scores'] = np.array(bleurt.compute(predictions=predictions, references=references)['scores'], dtype=float).tolist()\n",
    "    # MBR BLEURT\n",
    "    mbr_winner, index, sum_scores, score_matrix = BLEURT_mbrd(dataset[j]['candidates'])\n",
    "    dataset[j]['MBR_BLEURT_winner'] = mbr_winner\n",
    "    dataset[j]['MBR_BLEURT_winner_index'] = int(index)\n",
    "    dataset[j]['MBR_BLEURT_cand_scores'] = sum_scores.tolist()\n",
    "    dataset[j]['MBR_BLEURT_score_matrix'] = score_matrix.tolist()\n",
    "\n",
    "bleurt_dataset_PATH = drive_PATH+ f'/data-main/bleurt-{dataset_name}.jsonl'\n",
    "with jsonlines.open(bleurt_dataset_PATH, mode='w') as writer:\n",
    "    for item in dataset:\n",
    "        writer.write(item)"
   ]
  },
  {
   "cell_type": "code",
   "execution_count": null,
   "metadata": {
    "id": "tEQqMFiXU0a7"
   },
   "outputs": [],
   "source": []
  }
 ],
 "metadata": {
  "accelerator": "GPU",
  "colab": {
   "authorship_tag": "ABX9TyNefT0nie7E5UZQ037h2sB5",
   "gpuType": "A100",
   "machine_shape": "hm",
   "provenance": []
  },
  "kernelspec": {
   "display_name": "Python 3",
   "name": "python3"
  },
  "language_info": {
   "name": "python"
  }
 },
 "nbformat": 4,
 "nbformat_minor": 0
}
