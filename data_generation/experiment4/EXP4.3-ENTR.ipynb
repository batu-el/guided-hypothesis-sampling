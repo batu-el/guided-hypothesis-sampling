{
 "cells": [
  {
   "cell_type": "code",
   "execution_count": null,
   "metadata": {
    "colab": {
     "base_uri": "https://localhost:8080/"
    },
    "executionInfo": {
     "elapsed": 3456,
     "status": "ok",
     "timestamp": 1704689142113,
     "user": {
      "displayName": "Batu El",
      "userId": "11666366648103508022"
     },
     "user_tz": -180
    },
    "id": "nZpvJIJmMzzc",
    "outputId": "8ce30306-7295-4e8e-f5aa-bdf1d31f173f"
   },
   "outputs": [],
   "source": [
    "from google.colab import drive\n",
    "drive.mount('/content/drive', force_remount=True)\n",
    "drive_PATH = '../content/drive/MyDrive/Colab Notebooks/l101.experiments.1'"
   ]
  },
  {
   "cell_type": "code",
   "execution_count": null,
   "metadata": {
    "colab": {
     "base_uri": "https://localhost:8080/"
    },
    "executionInfo": {
     "elapsed": 7319,
     "status": "ok",
     "timestamp": 1704689149428,
     "user": {
      "displayName": "Batu El",
      "userId": "11666366648103508022"
     },
     "user_tz": -180
    },
    "id": "WgA-4WUCNVel",
    "outputId": "d36b74a2-fc28-4a77-81df-1e2879b60f61"
   },
   "outputs": [],
   "source": [
    "!pip install jsonlines datasets git+https://github.com/google-research/bleurt.git evaluate sacrebleu"
   ]
  },
  {
   "cell_type": "code",
   "execution_count": null,
   "metadata": {
    "executionInfo": {
     "elapsed": 370,
     "status": "ok",
     "timestamp": 1704689149793,
     "user": {
      "displayName": "Batu El",
      "userId": "11666366648103508022"
     },
     "user_tz": -180
    },
    "id": "luo4f832NVyc"
   },
   "outputs": [],
   "source": [
    "import jsonlines\n",
    "data_PATH = drive_PATH + '/data-main/exp2.3.entr-n128-t1-e0.02.jsonl'\n",
    "data = []\n",
    "\n",
    "with jsonlines.open(data_PATH) as f:\n",
    "    for line in f.iter():\n",
    "        data.append(line)"
   ]
  },
  {
   "cell_type": "code",
   "execution_count": null,
   "metadata": {
    "colab": {
     "base_uri": "https://localhost:8080/",
     "height": 144
    },
    "executionInfo": {
     "elapsed": 5620,
     "status": "ok",
     "timestamp": 1704689155410,
     "user": {
      "displayName": "Batu El",
      "userId": "11666366648103508022"
     },
     "user_tz": -180
    },
    "id": "9BbGG0NxNz9q",
    "outputId": "b04681b4-7091-4ad4-ad06-d60f24a415e6"
   },
   "outputs": [],
   "source": [
    "import tqdm\n",
    "import jsonlines\n",
    "import sys\n",
    "import numpy as np\n",
    "\n",
    "# Eval - BLEURT\n",
    "from datasets import load_metric\n",
    "bleurt = load_metric('bleurt', 'BLEURT-20-D3')"
   ]
  },
  {
   "cell_type": "code",
   "execution_count": null,
   "metadata": {
    "executionInfo": {
     "elapsed": 3,
     "status": "ok",
     "timestamp": 1704689155410,
     "user": {
      "displayName": "Batu El",
      "userId": "11666366648103508022"
     },
     "user_tz": -180
    },
    "id": "zKgQQQC2N6o7"
   },
   "outputs": [],
   "source": [
    "def BLEURT_mbrd(candidates):\n",
    "  k_samples = len(candidates)\n",
    "  score_matrix = np.zeros((k_samples, k_samples))\n",
    "\n",
    "  for j1 in range(k_samples):\n",
    "    references=[candidates[j1][0] for j2 in range(k_samples)]\n",
    "    predictions=[candidates[j2][0] for j2 in range(k_samples)]\n",
    "    scores = bleurt.compute(predictions=predictions, references=references)['scores']\n",
    "    score_matrix[ : ,j1] = scores\n",
    "\n",
    "  # remove votes for self\n",
    "  for j1 in range(k_samples):\n",
    "    for j2 in range(k_samples):\n",
    "      if j1 == j2:\n",
    "        score_matrix[j2,j1] = 0\n",
    "\n",
    "  sum_scores = np.sum(score_matrix, axis=1)\n",
    "  index = np.argmax(sum_scores)\n",
    "  mbr_winner = candidates[index]\n",
    "\n",
    "  return mbr_winner, index, sum_scores, score_matrix\n"
   ]
  },
  {
   "cell_type": "code",
   "execution_count": null,
   "metadata": {
    "colab": {
     "base_uri": "https://localhost:8080/"
    },
    "executionInfo": {
     "elapsed": 34359329,
     "status": "ok",
     "timestamp": 1704723514737,
     "user": {
      "displayName": "Batu El",
      "userId": "11666366648103508022"
     },
     "user_tz": -180
    },
    "id": "dwhGuTg0UhyQ",
    "outputId": "96651ca6-3b38-44e7-d050-72a3d92f6a97"
   },
   "outputs": [],
   "source": [
    "dataset_name = 'ENTR'\n",
    "num_examples = 1000\n",
    "assert(num_examples == len(data))\n",
    "num_candidates = 128\n",
    "dataset = data\n",
    "for j in tqdm.tqdm(range(num_examples)):\n",
    "    predictions=[dataset[j]['candidates'][i][0] for i in range(num_candidates)]\n",
    "    references=[dataset[j]['ref'] for i in range(num_candidates)]\n",
    "    dataset[j]['BLEURT_cand_scores'] = np.array(bleurt.compute(predictions=predictions, references=references)['scores'], dtype=float).tolist()\n",
    "    # MBR BLEURT\n",
    "    mbr_winner, index, sum_scores, score_matrix = BLEURT_mbrd(dataset[j]['candidates'])\n",
    "    dataset[j]['MBR_BLEURT_winner'] = mbr_winner\n",
    "    dataset[j]['MBR_BLEURT_winner_index'] = int(index)\n",
    "    dataset[j]['MBR_BLEURT_cand_scores'] = sum_scores.tolist()\n",
    "    dataset[j]['MBR_BLEURT_score_matrix'] = score_matrix.tolist()\n",
    "\n",
    "bleurt_dataset_PATH = drive_PATH+ f'/data-main/bleurt-{dataset_name}.jsonl'\n",
    "with jsonlines.open(bleurt_dataset_PATH, mode='w') as writer:\n",
    "    for item in dataset:\n",
    "        writer.write(item)"
   ]
  },
  {
   "cell_type": "code",
   "execution_count": null,
   "metadata": {
    "id": "C_0d5X9vUzNv"
   },
   "outputs": [],
   "source": []
  }
 ],
 "metadata": {
  "accelerator": "GPU",
  "colab": {
   "authorship_tag": "ABX9TyMEghWXlbHs1uRR8UEnAD6L",
   "gpuType": "A100",
   "machine_shape": "hm",
   "provenance": []
  },
  "kernelspec": {
   "display_name": "Python 3",
   "name": "python3"
  },
  "language_info": {
   "name": "python"
  }
 },
 "nbformat": 4,
 "nbformat_minor": 0
}
