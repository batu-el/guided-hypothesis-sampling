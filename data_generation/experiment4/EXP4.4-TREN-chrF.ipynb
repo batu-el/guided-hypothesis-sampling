{
 "cells": [
  {
   "cell_type": "code",
   "execution_count": null,
   "metadata": {
    "colab": {
     "base_uri": "https://localhost:8080/"
    },
    "executionInfo": {
     "elapsed": 5106,
     "status": "ok",
     "timestamp": 1704695789124,
     "user": {
      "displayName": "Batu El",
      "userId": "11666366648103508022"
     },
     "user_tz": -180
    },
    "id": "flDfmGk1wsn0",
    "outputId": "0a1e05fc-05bd-4221-a176-a4d02332db03"
   },
   "outputs": [],
   "source": [
    "from google.colab import drive\n",
    "drive.mount('/content/drive', force_remount=True)\n",
    "drive_PATH = '../content/drive/MyDrive/Colab Notebooks/l101.experiments.1'"
   ]
  },
  {
   "cell_type": "code",
   "execution_count": null,
   "metadata": {
    "colab": {
     "base_uri": "https://localhost:8080/"
    },
    "executionInfo": {
     "elapsed": 10041,
     "status": "ok",
     "timestamp": 1704695799163,
     "user": {
      "displayName": "Batu El",
      "userId": "11666366648103508022"
     },
     "user_tz": -180
    },
    "id": "hHF8wiluxI5y",
    "outputId": "7e092e3f-4096-46bb-d708-b30c2b34506f"
   },
   "outputs": [],
   "source": [
    "!pip install jsonlines datasets git+https://github.com/google-research/bleurt.git evaluate sacrebleu"
   ]
  },
  {
   "cell_type": "code",
   "execution_count": null,
   "metadata": {
    "executionInfo": {
     "elapsed": 2,
     "status": "ok",
     "timestamp": 1704695799163,
     "user": {
      "displayName": "Batu El",
      "userId": "11666366648103508022"
     },
     "user_tz": -180
    },
    "id": "i9xR2bbrxNPJ"
   },
   "outputs": [],
   "source": [
    "import jsonlines\n",
    "data_PATH = drive_PATH + '/data-main/exp2.4.tren-n128-t1-e0.02.jsonl'\n",
    "data = []\n",
    "\n",
    "with jsonlines.open(data_PATH) as f:\n",
    "    for line in f.iter():\n",
    "        data.append(line)"
   ]
  },
  {
   "cell_type": "code",
   "execution_count": null,
   "metadata": {
    "executionInfo": {
     "elapsed": 9233,
     "status": "ok",
     "timestamp": 1704695808393,
     "user": {
      "displayName": "Batu El",
      "userId": "11666366648103508022"
     },
     "user_tz": -180
    },
    "id": "vAQ7EWz0xdtd"
   },
   "outputs": [],
   "source": [
    "import tqdm\n",
    "import jsonlines\n",
    "import sys\n",
    "import numpy as np\n",
    "\n",
    "# Eval - BLEURT\n",
    "# from datasets import load_metric\n",
    "# bleurt = load_metric(\"bleurt\", module_type=\"metric\")\n",
    "# Eval - chrf(++)\n",
    "import evaluate\n",
    "chrf = evaluate.load(\"chrf\") # (word_order=2) for chrf++"
   ]
  },
  {
   "cell_type": "code",
   "execution_count": null,
   "metadata": {
    "executionInfo": {
     "elapsed": 3,
     "status": "ok",
     "timestamp": 1704695808394,
     "user": {
      "displayName": "Batu El",
      "userId": "11666366648103508022"
     },
     "user_tz": -180
    },
    "id": "IQo2VqVUxfr5"
   },
   "outputs": [],
   "source": [
    "\n",
    "def CHARF_mbrd(candidates):\n",
    "  k_samples = len(candidates)\n",
    "  score_matrix = np.zeros((k_samples, k_samples))\n",
    "\n",
    "  for j1 in range(k_samples):\n",
    "    for j2 in range(k_samples):\n",
    "      references=[candidates[j1][0]]\n",
    "      predictions=[candidates[j2][0]]\n",
    "      scores = chrf.compute(predictions=predictions, references=references, word_order=2)['score']\n",
    "      score_matrix[j2,j1] = scores\n",
    "\n",
    "  # remove votes for self\n",
    "  for j1 in range(k_samples):\n",
    "    for j2 in range(k_samples):\n",
    "      if j1 == j2:\n",
    "        score_matrix[j2,j1] = 0\n",
    "\n",
    "  sum_scores = np.sum(score_matrix, axis=1)\n",
    "  index = np.argmax(sum_scores)\n",
    "  mbr_winner = candidates[index]\n",
    "\n",
    "  return mbr_winner, index, sum_scores, score_matrix"
   ]
  },
  {
   "cell_type": "code",
   "execution_count": null,
   "metadata": {
    "colab": {
     "base_uri": "https://localhost:8080/"
    },
    "executionInfo": {
     "elapsed": 75122828,
     "status": "ok",
     "timestamp": 1704770931220,
     "user": {
      "displayName": "Batu El",
      "userId": "11666366648103508022"
     },
     "user_tz": -180
    },
    "id": "LVYnkO2Lxi9H",
    "outputId": "82298c81-9ff1-413f-dec5-1e390a8ef2e6"
   },
   "outputs": [],
   "source": [
    "dataset_name = 'TREN'\n",
    "dataset = data\n",
    "num_examples = 1000\n",
    "num_candidates = 128\n",
    "assert(num_examples == len(dataset))\n",
    "for j in tqdm.tqdm(range(num_examples)):\n",
    "    predictions=[dataset[j]['candidates'][i][0] for i in range(num_candidates)]\n",
    "    references=[dataset[j]['ref'] for i in range(num_candidates)]\n",
    "\n",
    "    chrf_scores = []\n",
    "    for i in range(num_candidates):\n",
    "        chrf_scores.append(chrf.compute(predictions=[predictions[i]], references=[references[i]], word_order=2)['score'])\n",
    "    dataset[j]['CHRF_cand_scores'] = np.array(chrf_scores, dtype=float).tolist()\n",
    "    # MBR CHRF\n",
    "    mbr_winner, index, sum_scores, score_matrix = CHARF_mbrd(dataset[j]['candidates'])\n",
    "    dataset[j]['MBR_CHRF_winner'] = mbr_winner\n",
    "    dataset[j]['MBR_CHRF_winner_index'] = int(index)\n",
    "    dataset[j]['MBR_CHRF_cand_scores'] = sum_scores.tolist()\n",
    "    dataset[j]['MBR_CHRF_score_matrix'] = score_matrix.tolist()\n",
    "\n",
    "chrf_dataset_PATH = drive_PATH+ f'/data-main/chrf-{dataset_name}.jsonl'\n",
    "with jsonlines.open(chrf_dataset_PATH, mode='w') as writer:\n",
    "    for item in dataset:\n",
    "        writer.write(item)"
   ]
  },
  {
   "cell_type": "code",
   "execution_count": null,
   "metadata": {
    "id": "lbGLRyohxqt4"
   },
   "outputs": [],
   "source": []
  }
 ],
 "metadata": {
  "colab": {
   "authorship_tag": "ABX9TyNmaiROlYYo8wV0FnNKHpkd",
   "machine_shape": "hm",
   "provenance": []
  },
  "kernelspec": {
   "display_name": "Python 3",
   "name": "python3"
  },
  "language_info": {
   "name": "python"
  }
 },
 "nbformat": 4,
 "nbformat_minor": 0
}
