{
 "cells": [
  {
   "cell_type": "code",
   "execution_count": null,
   "metadata": {
    "colab": {
     "base_uri": "https://localhost:8080/"
    },
    "executionInfo": {
     "elapsed": 4560,
     "status": "ok",
     "timestamp": 1704726424419,
     "user": {
      "displayName": "Batu El",
      "userId": "11666366648103508022"
     },
     "user_tz": -180
    },
    "id": "3TcfP8qxM03J",
    "outputId": "a2df74c6-38ee-45dc-872e-cd1e1e28e9c2"
   },
   "outputs": [],
   "source": [
    "from google.colab import drive\n",
    "drive.mount('/content/drive', force_remount=True)\n",
    "drive_PATH = '../content/drive/MyDrive/Colab Notebooks/l101.experiments.1'"
   ]
  },
  {
   "cell_type": "code",
   "execution_count": null,
   "metadata": {
    "colab": {
     "base_uri": "https://localhost:8080/"
    },
    "executionInfo": {
     "elapsed": 7637,
     "status": "ok",
     "timestamp": 1704726432053,
     "user": {
      "displayName": "Batu El",
      "userId": "11666366648103508022"
     },
     "user_tz": -180
    },
    "id": "vLf4y8yENWO-",
    "outputId": "f6980df8-38b2-4aee-cf3f-2fd44ee4b2e3"
   },
   "outputs": [],
   "source": [
    "!pip install jsonlines datasets git+https://github.com/google-research/bleurt.git evaluate sacrebleu"
   ]
  },
  {
   "cell_type": "code",
   "execution_count": null,
   "metadata": {
    "executionInfo": {
     "elapsed": 8,
     "status": "ok",
     "timestamp": 1704726432053,
     "user": {
      "displayName": "Batu El",
      "userId": "11666366648103508022"
     },
     "user_tz": -180
    },
    "id": "q7ksqoOSNWmJ"
   },
   "outputs": [],
   "source": [
    "import jsonlines\n",
    "data_PATH = drive_PATH + '/data-main/exp2.4.tren-n128-t1-e0.02.jsonl'\n",
    "data = []\n",
    "\n",
    "with jsonlines.open(data_PATH) as f:\n",
    "    for line in f.iter():\n",
    "        data.append(line)"
   ]
  },
  {
   "cell_type": "code",
   "execution_count": null,
   "metadata": {
    "colab": {
     "base_uri": "https://localhost:8080/",
     "height": 144
    },
    "executionInfo": {
     "elapsed": 6299,
     "status": "ok",
     "timestamp": 1704726440465,
     "user": {
      "displayName": "Batu El",
      "userId": "11666366648103508022"
     },
     "user_tz": -180
    },
    "id": "DjgytiB0Ny37",
    "outputId": "2fdd4413-8ac5-4a8d-fcf8-ac18cb4f05fa"
   },
   "outputs": [],
   "source": [
    "import tqdm\n",
    "import jsonlines\n",
    "import sys\n",
    "import numpy as np\n",
    "\n",
    "# Eval - BLEURT\n",
    "from datasets import load_metric\n",
    "bleurt = load_metric('bleurt', 'BLEURT-20-D3')"
   ]
  },
  {
   "cell_type": "code",
   "execution_count": null,
   "metadata": {
    "executionInfo": {
     "elapsed": 521,
     "status": "ok",
     "timestamp": 1704726443648,
     "user": {
      "displayName": "Batu El",
      "userId": "11666366648103508022"
     },
     "user_tz": -180
    },
    "id": "IzynGbkpN5Sh"
   },
   "outputs": [],
   "source": [
    "def BLEURT_mbrd(candidates):\n",
    "  k_samples = len(candidates)\n",
    "  score_matrix = np.zeros((k_samples, k_samples))\n",
    "\n",
    "  for j1 in range(k_samples):\n",
    "    references=[candidates[j1][0] for j2 in range(k_samples)]\n",
    "    predictions=[candidates[j2][0] for j2 in range(k_samples)]\n",
    "    scores = bleurt.compute(predictions=predictions, references=references)['scores']\n",
    "    score_matrix[ : ,j1] = scores\n",
    "\n",
    "  # remove votes for self\n",
    "  for j1 in range(k_samples):\n",
    "    for j2 in range(k_samples):\n",
    "      if j1 == j2:\n",
    "        score_matrix[j2,j1] = 0\n",
    "\n",
    "  sum_scores = np.sum(score_matrix, axis=1)\n",
    "  index = np.argmax(sum_scores)\n",
    "  mbr_winner = candidates[index]\n",
    "\n",
    "  return mbr_winner, index, sum_scores, score_matrix"
   ]
  },
  {
   "cell_type": "code",
   "execution_count": null,
   "metadata": {
    "colab": {
     "base_uri": "https://localhost:8080/"
    },
    "executionInfo": {
     "elapsed": 45661618,
     "status": "ok",
     "timestamp": 1704772110446,
     "user": {
      "displayName": "Batu El",
      "userId": "11666366648103508022"
     },
     "user_tz": -180
    },
    "id": "9T6RJlSCUlhR",
    "outputId": "b4c7bc42-a263-4d68-9370-1e52bc86ebc3"
   },
   "outputs": [],
   "source": [
    "dataset_name = 'TREN'\n",
    "num_examples = 1000\n",
    "assert(num_examples == len(data))\n",
    "num_candidates = 128\n",
    "dataset = data\n",
    "for j in tqdm.tqdm(range(num_examples)):\n",
    "    predictions=[dataset[j]['candidates'][i][0] for i in range(num_candidates)]\n",
    "    references=[dataset[j]['ref'] for i in range(num_candidates)]\n",
    "    dataset[j]['BLEURT_cand_scores'] = np.array(bleurt.compute(predictions=predictions, references=references)['scores'], dtype=float).tolist()\n",
    "    # MBR BLEURT\n",
    "    mbr_winner, index, sum_scores, score_matrix = BLEURT_mbrd(dataset[j]['candidates'])\n",
    "    dataset[j]['MBR_BLEURT_winner'] = mbr_winner\n",
    "    dataset[j]['MBR_BLEURT_winner_index'] = int(index)\n",
    "    dataset[j]['MBR_BLEURT_cand_scores'] = sum_scores.tolist()\n",
    "    dataset[j]['MBR_BLEURT_score_matrix'] = score_matrix.tolist()\n",
    "\n",
    "bleurt_dataset_PATH = drive_PATH+ f'/data-main/bleurt-{dataset_name}.jsonl'\n",
    "with jsonlines.open(bleurt_dataset_PATH, mode='w') as writer:\n",
    "    for item in dataset:\n",
    "        writer.write(item)"
   ]
  }
 ],
 "metadata": {
  "accelerator": "GPU",
  "colab": {
   "authorship_tag": "ABX9TyOp7cYQR2yEikCRoBJEIvtn",
   "gpuType": "A100",
   "machine_shape": "hm",
   "provenance": []
  },
  "kernelspec": {
   "display_name": "Python 3",
   "name": "python3"
  },
  "language_info": {
   "name": "python"
  }
 },
 "nbformat": 4,
 "nbformat_minor": 0
}
