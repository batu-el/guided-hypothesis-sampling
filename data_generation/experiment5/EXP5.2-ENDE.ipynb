{
 "cells": [
  {
   "cell_type": "code",
   "execution_count": null,
   "metadata": {
    "colab": {
     "base_uri": "https://localhost:8080/"
    },
    "executionInfo": {
     "elapsed": 4449,
     "status": "ok",
     "timestamp": 1704872982895,
     "user": {
      "displayName": "Batu El",
      "userId": "11666366648103508022"
     },
     "user_tz": -180
    },
    "id": "kW8Sy4iu7FP1",
    "outputId": "c260a00b-51b4-48c9-ac91-416973e68bb3"
   },
   "outputs": [],
   "source": [
    "from google.colab import drive\n",
    "drive.mount('/content/drive', force_remount=True)\n",
    "drive_PATH = '../content/drive/MyDrive/Colab Notebooks/l101.experiments.1'"
   ]
  },
  {
   "cell_type": "code",
   "execution_count": null,
   "metadata": {
    "colab": {
     "base_uri": "https://localhost:8080/"
    },
    "executionInfo": {
     "elapsed": 5418,
     "status": "ok",
     "timestamp": 1704872992665,
     "user": {
      "displayName": "Batu El",
      "userId": "11666366648103508022"
     },
     "user_tz": -180
    },
    "id": "uRdNjHSJ8Zbg",
    "outputId": "0db0759f-b61f-49d6-8b5b-8e7162dfb9c6"
   },
   "outputs": [],
   "source": [
    "!pip install jsonlines"
   ]
  },
  {
   "cell_type": "code",
   "execution_count": null,
   "metadata": {
    "executionInfo": {
     "elapsed": 9005,
     "status": "ok",
     "timestamp": 1704873001668,
     "user": {
      "displayName": "Batu El",
      "userId": "11666366648103508022"
     },
     "user_tz": -180
    },
    "id": "muM0Pe4m8iKl"
   },
   "outputs": [],
   "source": [
    "from transformers import AutoTokenizer, RemBertModel\n",
    "import torch\n",
    "\n",
    "tokenizer = AutoTokenizer.from_pretrained(\"google/rembert\")\n",
    "model = RemBertModel.from_pretrained(\"google/rembert\")"
   ]
  },
  {
   "cell_type": "code",
   "execution_count": null,
   "metadata": {
    "executionInfo": {
     "elapsed": 3,
     "status": "ok",
     "timestamp": 1704873001668,
     "user": {
      "displayName": "Batu El",
      "userId": "11666366648103508022"
     },
     "user_tz": -180
    },
    "id": "C7XvaovL8kyE"
   },
   "outputs": [],
   "source": [
    "def encode(sent):\n",
    "    inputs = tokenizer(sent, return_tensors=\"pt\")\n",
    "    outputs = model(**inputs)\n",
    "    last_hidden_states = outputs.last_hidden_state\n",
    "    return last_hidden_states.detach().numpy()[0]\n",
    "\n",
    "def encode_sentence(sent):\n",
    "    enc = encode(sent)\n",
    "    pooled_enc = sum(enc) / enc.shape[0]\n",
    "    return pooled_enc\n",
    "\n",
    "def encode_candidates(cands):\n",
    "    return [encode_sentence(cand) for cand in cands]"
   ]
  },
  {
   "cell_type": "code",
   "execution_count": null,
   "metadata": {
    "executionInfo": {
     "elapsed": 15927,
     "status": "ok",
     "timestamp": 1704873017592,
     "user": {
      "displayName": "Batu El",
      "userId": "11666366648103508022"
     },
     "user_tz": -180
    },
    "id": "nMGWPCW48nI3"
   },
   "outputs": [],
   "source": [
    "import jsonlines\n",
    "# BLEURT\n",
    "bleurt_ENDE_PATH = drive_PATH + '/data-main/bleurt-ENDE.jsonl'\n",
    "bleurt_ENDE = []\n",
    "with jsonlines.open(bleurt_ENDE_PATH) as f:\n",
    "    for line in f.iter():\n",
    "        bleurt_ENDE.append(line)\n",
    "# chrF++\n",
    "chrf_ENDE_PATH = drive_PATH + '/data-main/chrf-ENDE.jsonl'\n",
    "chrf_ENDE = []\n",
    "with jsonlines.open(chrf_ENDE_PATH) as f:\n",
    "    for line in f.iter():\n",
    "        chrf_ENDE.append(line)"
   ]
  },
  {
   "cell_type": "code",
   "execution_count": null,
   "metadata": {
    "executionInfo": {
     "elapsed": 2,
     "status": "ok",
     "timestamp": 1704873017592,
     "user": {
      "displayName": "Batu El",
      "userId": "11666366648103508022"
     },
     "user_tz": -180
    },
    "id": "fgjSDDtm8rcl"
   },
   "outputs": [],
   "source": [
    "num_examples = 1000\n",
    "assert(len(chrf_ENDE) == num_examples)\n",
    "assert(len(bleurt_ENDE) == num_examples)\n",
    "\n",
    "for i in range(num_examples):\n",
    "  assert(chrf_ENDE[i]['src'] == bleurt_ENDE[i]['src'])\n",
    "  assert(chrf_ENDE[i]['ref'] == bleurt_ENDE[i]['ref'])\n",
    "  assert(chrf_ENDE[i]['candidates'] == bleurt_ENDE[i]['candidates'])"
   ]
  },
  {
   "cell_type": "code",
   "execution_count": null,
   "metadata": {
    "colab": {
     "base_uri": "https://localhost:8080/"
    },
    "executionInfo": {
     "elapsed": 33843713,
     "status": "ok",
     "timestamp": 1704906861303,
     "user": {
      "displayName": "Batu El",
      "userId": "11666366648103508022"
     },
     "user_tz": -180
    },
    "id": "zWXnz5Tb8xgX",
    "outputId": "78451ecf-3750-4934-8f5f-fa9da38d6cb2"
   },
   "outputs": [],
   "source": [
    "import tqdm\n",
    "ENDE = []\n",
    "\n",
    "for i in tqdm.tqdm(range(num_examples)):\n",
    "  ENDE_dict = { 'src': chrf_ENDE[i]['src'], 'ref': chrf_ENDE[i]['ref'], 'candidates': chrf_ENDE[i]['candidates'], 'enc_candidates':encode_candidates(chrf_ENDE[i]['candidates']) }\n",
    "\n",
    "  ### bleurt\n",
    "  # cand scores\n",
    "  ENDE_dict['BLEURT_cand_scores'] = bleurt_ENDE[i]['BLEURT_cand_scores']\n",
    "  # mbr cand scores\n",
    "  ENDE_dict['MBR_BLEURT_cand_scores'] = bleurt_ENDE[i]['MBR_BLEURT_cand_scores']\n",
    "  # mbr score matrix\n",
    "  ENDE_dict['MBR_BLEURT_score_matrix'] = bleurt_ENDE[i]['MBR_BLEURT_score_matrix']\n",
    "  # mbr winner index\n",
    "  ENDE_dict['MBR_BLEURT_winner_index'] = bleurt_ENDE[i]['MBR_BLEURT_winner_index']\n",
    "  # mbr winner\n",
    "  ENDE_dict['MBR_BLEURT_winner'] = bleurt_ENDE[i]['MBR_BLEURT_winner']\n",
    "  ### chrf\n",
    "  # cand scores\n",
    "  ENDE_dict['CHRF_cand_scores'] = chrf_ENDE[i]['CHRF_cand_scores']\n",
    "  # mbr cand scores\n",
    "  ENDE_dict['MBR_CHRF_cand_scores'] = chrf_ENDE[i]['MBR_CHRF_cand_scores']\n",
    "  # mbr score matrix\n",
    "  ENDE_dict['MBR_CHRF_score_matrix'] = chrf_ENDE[i]['MBR_CHRF_score_matrix']\n",
    "  # mbr winner index\n",
    "  ENDE_dict['MBR_CHRF_winner_index'] = chrf_ENDE[i]['MBR_CHRF_winner_index']\n",
    "  # mbr winner\n",
    "  ENDE_dict['MBR_CHRF_winner'] = chrf_ENDE[i]['MBR_CHRF_winner']\n",
    "  ###\n",
    "  ENDE.append(ENDE_dict)"
   ]
  },
  {
   "cell_type": "code",
   "execution_count": null,
   "metadata": {
    "colab": {
     "base_uri": "https://localhost:8080/"
    },
    "executionInfo": {
     "elapsed": 8764,
     "status": "ok",
     "timestamp": 1704907194867,
     "user": {
      "displayName": "Batu El",
      "userId": "11666366648103508022"
     },
     "user_tz": -180
    },
    "id": "CkZO_u_wTWT3",
    "outputId": "eeb7d8cb-637e-4a6a-dbf1-41e2e5dd3be5"
   },
   "outputs": [],
   "source": [
    "import numpy as np\n",
    "for i in tqdm.tqdm(range(num_examples)):\n",
    "  ENDE[i]['enc_candidates'] = np.array(ENDE[i]['enc_candidates'], dtype=float).tolist()"
   ]
  },
  {
   "cell_type": "code",
   "execution_count": null,
   "metadata": {
    "executionInfo": {
     "elapsed": 144633,
     "status": "ok",
     "timestamp": 1704907355681,
     "user": {
      "displayName": "Batu El",
      "userId": "11666366648103508022"
     },
     "user_tz": -180
    },
    "id": "1PJMuFfH840N"
   },
   "outputs": [],
   "source": [
    "ENDE_PATH = drive_PATH+ f'/data-main/ENDE.jsonl'\n",
    "with jsonlines.open(ENDE_PATH, mode='w') as writer:\n",
    "    for item in ENDE:\n",
    "        writer.write(item)"
   ]
  },
  {
   "cell_type": "code",
   "execution_count": null,
   "metadata": {
    "executionInfo": {
     "elapsed": 17,
     "status": "aborted",
     "timestamp": 1704906861304,
     "user": {
      "displayName": "Batu El",
      "userId": "11666366648103508022"
     },
     "user_tz": -180
    },
    "id": "II8auAfVB0wc"
   },
   "outputs": [],
   "source": []
  }
 ],
 "metadata": {
  "accelerator": "GPU",
  "colab": {
   "authorship_tag": "ABX9TyMFDVZq/7S165OVM4EYLvYv",
   "gpuType": "A100",
   "machine_shape": "hm",
   "provenance": []
  },
  "kernelspec": {
   "display_name": "Python 3",
   "name": "python3"
  },
  "language_info": {
   "name": "python"
  }
 },
 "nbformat": 4,
 "nbformat_minor": 0
}
