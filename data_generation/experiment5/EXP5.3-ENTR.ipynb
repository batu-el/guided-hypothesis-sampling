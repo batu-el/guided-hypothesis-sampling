{
 "cells": [
  {
   "cell_type": "code",
   "execution_count": null,
   "metadata": {
    "colab": {
     "base_uri": "https://localhost:8080/"
    },
    "executionInfo": {
     "elapsed": 3148,
     "status": "ok",
     "timestamp": 1704872961212,
     "user": {
      "displayName": "Batu El",
      "userId": "11666366648103508022"
     },
     "user_tz": -180
    },
    "id": "6f2Md5PN7DXV",
    "outputId": "817f13a9-333c-4084-ddf9-4495fa7362f3"
   },
   "outputs": [],
   "source": [
    "from google.colab import drive\n",
    "drive.mount('/content/drive', force_remount=True)\n",
    "drive_PATH = '../content/drive/MyDrive/Colab Notebooks/l101.experiments.1'"
   ]
  },
  {
   "cell_type": "code",
   "execution_count": null,
   "metadata": {
    "colab": {
     "base_uri": "https://localhost:8080/"
    },
    "executionInfo": {
     "elapsed": 5175,
     "status": "ok",
     "timestamp": 1704872968028,
     "user": {
      "displayName": "Batu El",
      "userId": "11666366648103508022"
     },
     "user_tz": -180
    },
    "id": "wqhphclH8Z1j",
    "outputId": "fcf0b785-4a76-4ea1-bae2-7282dd1a3c93"
   },
   "outputs": [],
   "source": [
    "!pip install jsonlines"
   ]
  },
  {
   "cell_type": "code",
   "execution_count": null,
   "metadata": {
    "executionInfo": {
     "elapsed": 8168,
     "status": "ok",
     "timestamp": 1704872976191,
     "user": {
      "displayName": "Batu El",
      "userId": "11666366648103508022"
     },
     "user_tz": -180
    },
    "id": "4wfXAbX68iqU"
   },
   "outputs": [],
   "source": [
    "from transformers import AutoTokenizer, RemBertModel\n",
    "import torch\n",
    "\n",
    "tokenizer = AutoTokenizer.from_pretrained(\"google/rembert\")\n",
    "model = RemBertModel.from_pretrained(\"google/rembert\")"
   ]
  },
  {
   "cell_type": "code",
   "execution_count": null,
   "metadata": {
    "executionInfo": {
     "elapsed": 6,
     "status": "ok",
     "timestamp": 1704872976192,
     "user": {
      "displayName": "Batu El",
      "userId": "11666366648103508022"
     },
     "user_tz": -180
    },
    "id": "SMQetOLS8lL8"
   },
   "outputs": [],
   "source": [
    "def encode(sent):\n",
    "    inputs = tokenizer(sent, return_tensors=\"pt\")\n",
    "    outputs = model(**inputs)\n",
    "    last_hidden_states = outputs.last_hidden_state\n",
    "    return last_hidden_states.detach().numpy()[0]\n",
    "\n",
    "def encode_sentence(sent):\n",
    "    enc = encode(sent)\n",
    "    pooled_enc = sum(enc) / enc.shape[0]\n",
    "    return pooled_enc\n",
    "\n",
    "def encode_candidates(cands):\n",
    "    return [encode_sentence(cand) for cand in cands]"
   ]
  },
  {
   "cell_type": "code",
   "execution_count": null,
   "metadata": {
    "executionInfo": {
     "elapsed": 18216,
     "status": "ok",
     "timestamp": 1704872994403,
     "user": {
      "displayName": "Batu El",
      "userId": "11666366648103508022"
     },
     "user_tz": -180
    },
    "id": "GTj_p0uk8nnm"
   },
   "outputs": [],
   "source": [
    "import jsonlines\n",
    "# BLEURT\n",
    "bleurt_ENTR_PATH = drive_PATH + '/data-main/bleurt-ENTR.jsonl'\n",
    "bleurt_ENTR = []\n",
    "with jsonlines.open(bleurt_ENTR_PATH) as f:\n",
    "    for line in f.iter():\n",
    "        bleurt_ENTR.append(line)\n",
    "# chrF++\n",
    "chrf_ENTR_PATH = drive_PATH + '/data-main/chrf-ENTR.jsonl'\n",
    "chrf_ENTR = []\n",
    "with jsonlines.open(chrf_ENTR_PATH) as f:\n",
    "    for line in f.iter():\n",
    "        chrf_ENTR.append(line)"
   ]
  },
  {
   "cell_type": "code",
   "execution_count": null,
   "metadata": {
    "executionInfo": {
     "elapsed": 5,
     "status": "ok",
     "timestamp": 1704872994403,
     "user": {
      "displayName": "Batu El",
      "userId": "11666366648103508022"
     },
     "user_tz": -180
    },
    "id": "CCYCM59Y8sgj"
   },
   "outputs": [],
   "source": [
    "num_examples = 1000\n",
    "assert(len(chrf_ENTR) == num_examples)\n",
    "assert(len(bleurt_ENTR) == num_examples)\n",
    "\n",
    "for i in range(num_examples):\n",
    "  assert(chrf_ENTR[i]['src'] == bleurt_ENTR[i]['src'])\n",
    "  assert(chrf_ENTR[i]['ref'] == bleurt_ENTR[i]['ref'])\n",
    "  assert(chrf_ENTR[i]['candidates'] == bleurt_ENTR[i]['candidates'])"
   ]
  },
  {
   "cell_type": "code",
   "execution_count": null,
   "metadata": {
    "colab": {
     "base_uri": "https://localhost:8080/"
    },
    "executionInfo": {
     "elapsed": 32820997,
     "status": "ok",
     "timestamp": 1704905815396,
     "user": {
      "displayName": "Batu El",
      "userId": "11666366648103508022"
     },
     "user_tz": -180
    },
    "id": "gYFt_iua8x-D",
    "outputId": "c3426b50-9fd6-4ac2-b534-a46068020543"
   },
   "outputs": [],
   "source": [
    "import tqdm\n",
    "ENTR = []\n",
    "for i in tqdm.tqdm(range(num_examples)):\n",
    "  ENTR_dict = { 'src': chrf_ENTR[i]['src'], 'ref': chrf_ENTR[i]['ref'], 'candidates': chrf_ENTR[i]['candidates'], 'enc_candidates':encode_candidates(chrf_ENTR[i]['candidates']) }\n",
    "  ### bleurt\n",
    "  # cand scores\n",
    "  ENTR_dict['BLEURT_cand_scores'] = bleurt_ENTR[i]['BLEURT_cand_scores']\n",
    "  # mbr cand scores\n",
    "  ENTR_dict['MBR_BLEURT_cand_scores'] = bleurt_ENTR[i]['MBR_BLEURT_cand_scores']\n",
    "  # mbr score matrix\n",
    "  ENTR_dict['MBR_BLEURT_score_matrix'] = bleurt_ENTR[i]['MBR_BLEURT_score_matrix']\n",
    "  # mbr winner index\n",
    "  ENTR_dict['MBR_BLEURT_winner_index'] = bleurt_ENTR[i]['MBR_BLEURT_winner_index']\n",
    "  # mbr winner\n",
    "  ENTR_dict['MBR_BLEURT_winner'] = bleurt_ENTR[i]['MBR_BLEURT_winner']\n",
    "  ### chrf\n",
    "  # cand scores\n",
    "  ENTR_dict['CHRF_cand_scores'] = chrf_ENTR[i]['CHRF_cand_scores']\n",
    "  # mbr cand scores\n",
    "  ENTR_dict['MBR_CHRF_cand_scores'] = chrf_ENTR[i]['MBR_CHRF_cand_scores']\n",
    "  # mbr score matrix\n",
    "  ENTR_dict['MBR_CHRF_score_matrix'] = chrf_ENTR[i]['MBR_CHRF_score_matrix']\n",
    "  # mbr winner index\n",
    "  ENTR_dict['MBR_CHRF_winner_index'] = chrf_ENTR[i]['MBR_CHRF_winner_index']\n",
    "  # mbr winner\n",
    "  ENTR_dict['MBR_CHRF_winner'] = chrf_ENTR[i]['MBR_CHRF_winner']\n",
    "  ###\n",
    "  ENTR.append(ENTR_dict)"
   ]
  },
  {
   "cell_type": "code",
   "execution_count": null,
   "metadata": {
    "colab": {
     "base_uri": "https://localhost:8080/"
    },
    "executionInfo": {
     "elapsed": 8099,
     "status": "ok",
     "timestamp": 1704905841952,
     "user": {
      "displayName": "Batu El",
      "userId": "11666366648103508022"
     },
     "user_tz": -180
    },
    "id": "prLsEau8Tbqb",
    "outputId": "f0b69cd8-59c1-439e-bd44-1b84c6df7948"
   },
   "outputs": [],
   "source": [
    "import numpy as np\n",
    "for i in tqdm.tqdm(range(num_examples)):\n",
    "  ENTR[i]['enc_candidates'] = np.array(ENTR[i]['enc_candidates'], dtype=float).tolist()"
   ]
  },
  {
   "cell_type": "code",
   "execution_count": null,
   "metadata": {
    "executionInfo": {
     "elapsed": 143801,
     "status": "ok",
     "timestamp": 1704905988362,
     "user": {
      "displayName": "Batu El",
      "userId": "11666366648103508022"
     },
     "user_tz": -180
    },
    "id": "y1qhsS3Y85tU"
   },
   "outputs": [],
   "source": [
    "ENTR_PATH = drive_PATH+ f'/data-main/ENTR.jsonl'\n",
    "with jsonlines.open(ENTR_PATH, mode='w') as writer:\n",
    "    for item in ENTR:\n",
    "        writer.write(item)"
   ]
  },
  {
   "cell_type": "code",
   "execution_count": null,
   "metadata": {
    "colab": {
     "base_uri": "https://localhost:8080/",
     "output_embedded_package_id": "1qvfRlWIptNPJvjzIbCsnJMnnYttqJlWh"
    },
    "executionInfo": {
     "elapsed": 2304,
     "status": "ok",
     "timestamp": 1704906100927,
     "user": {
      "displayName": "Batu El",
      "userId": "11666366648103508022"
     },
     "user_tz": -180
    },
    "id": "1z4wGuvCB6B_",
    "outputId": "8549305e-cf4f-4dfe-fe83-432038fc6e64"
   },
   "outputs": [],
   "source": [
    "ENTR[0]['enc_candidates']"
   ]
  }
 ],
 "metadata": {
  "accelerator": "GPU",
  "colab": {
   "authorship_tag": "ABX9TyOk0bLuIBoVwK71Sl1SzKwN",
   "gpuType": "A100",
   "machine_shape": "hm",
   "provenance": []
  },
  "kernelspec": {
   "display_name": "Python 3",
   "name": "python3"
  },
  "language_info": {
   "name": "python"
  }
 },
 "nbformat": 4,
 "nbformat_minor": 0
}
