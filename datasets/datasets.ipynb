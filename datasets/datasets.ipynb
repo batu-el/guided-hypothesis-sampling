{
 "cells": [
  {
   "cell_type": "code",
   "execution_count": null,
   "metadata": {},
   "outputs": [],
   "source": [
    "# Downloading the datasets for 2 language pairs\n",
    "import datasets\n",
    "from datasets import inspect_dataset, load_dataset_builder"
   ]
  },
  {
   "cell_type": "code",
   "execution_count": null,
   "metadata": {},
   "outputs": [],
   "source": [
    "inspect_dataset(\"wmt18\", \"data/scripts\")"
   ]
  },
  {
   "cell_type": "code",
   "execution_count": null,
   "metadata": {},
   "outputs": [],
   "source": [
    "builder = load_dataset_builder(\n",
    "    \"data/scripts/wmt_utils.py\",\n",
    "    language_pair=(\"tr\", \"en\"),\n",
    "    subsets={\n",
    "        datasets.Split.TRAIN: [\"setimes_2\"],\n",
    "        datasets.Split.VALIDATION: [\"newstest2017\"],\n",
    "        datasets.Split.TEST: [\"newstest2018\"],\n",
    "    },\n",
    ")\n",
    "# Standard version\n",
    "builder.download_and_prepare()\n",
    "ds_tren = builder.as_dataset()"
   ]
  },
  {
   "cell_type": "code",
   "execution_count": null,
   "metadata": {},
   "outputs": [],
   "source": [
    "builder = load_dataset_builder(\n",
    "    \"data/scripts/wmt_utils.py\",\n",
    "    language_pair=(\"de\", \"en\"),\n",
    "    subsets={\n",
    "        datasets.Split.TRAIN: [\n",
    "                \"europarl_v7\",\n",
    "                \"europarl_v8_18\",\n",
    "                \"paracrawl_v1\",\n",
    "                \"commoncrawl\",\n",
    "                \"newscommentary_v13\",\n",
    "                \"czeng_17\",\n",
    "                \"yandexcorpus\",\n",
    "                \"wikiheadlines_fi\",\n",
    "                \"wikiheadlines_ru\",\n",
    "                \"setimes_2\",\n",
    "                \"uncorpus_v1\",\n",
    "                \"rapid_2016\",\n",
    "            ],\n",
    "        datasets.Split.VALIDATION: [\"newstest2017\"],\n",
    "        datasets.Split.TEST: [\"newstest2018\"],\n",
    "    },\n",
    ")\n",
    "\n",
    "# Standard version\n",
    "builder.download_and_prepare()\n",
    "ds_deen = builder.as_dataset()"
   ]
  },
  {
   "cell_type": "code",
   "execution_count": null,
   "metadata": {},
   "outputs": [],
   "source": [
    "test_tr = dict(ds_tren)['test']['translation']\n",
    "test_de = dict(ds_deen)['test']['translation']"
   ]
  },
  {
   "cell_type": "code",
   "execution_count": null,
   "metadata": {},
   "outputs": [],
   "source": [
    "import jsonlines\n",
    "test_tr_PATH = 'data/datasets/test_tr.jsonl'\n",
    "test_de_PATH = 'data/datasets/test_de.jsonl'\n",
    "\n",
    "with jsonlines.open(test_tr_PATH, mode='w') as writer:\n",
    "    for item in test_tr:\n",
    "        writer.write(item)\n",
    "with jsonlines.open(test_de_PATH, mode='w') as writer:\n",
    "    for item in test_de:\n",
    "        writer.write(item)"
   ]
  }
 ],
 "metadata": {
  "kernelspec": {
   "display_name": "env",
   "language": "python",
   "name": "python3"
  },
  "language_info": {
   "codemirror_mode": {
    "name": "ipython",
    "version": 3
   },
   "file_extension": ".py",
   "mimetype": "text/x-python",
   "name": "python",
   "nbconvert_exporter": "python",
   "pygments_lexer": "ipython3",
   "version": "3.9.13"
  }
 },
 "nbformat": 4,
 "nbformat_minor": 2
}
