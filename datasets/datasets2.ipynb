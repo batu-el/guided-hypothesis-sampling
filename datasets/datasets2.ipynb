{
 "cells": [
  {
   "cell_type": "code",
   "execution_count": 2,
   "metadata": {},
   "outputs": [],
   "source": [
    "import jsonlines\n",
    "### Dataset\n",
    "test_tr_PATH = 'data/datasets/test_tr.jsonl'\n",
    "test_de_PATH = 'data/datasets/test_de.jsonl'\n",
    "test_tr = []\n",
    "test_de = []\n",
    "\n",
    "with jsonlines.open(test_tr_PATH) as f:\n",
    "    for line in f.iter():\n",
    "        test_tr.append(line)\n",
    "with jsonlines.open(test_de_PATH) as f:\n",
    "    for line in f.iter():\n",
    "        test_de.append(line)"
   ]
  },
  {
   "cell_type": "code",
   "execution_count": 3,
   "metadata": {},
   "outputs": [],
   "source": [
    "### Setting the Language Configurations\n",
    "import random\n",
    "\n",
    "num_examples = 1000\n",
    "random.shuffle(test_tr)\n",
    "random.shuffle(test_de)\n",
    "\n",
    "test_de_1000 = test_de[:num_examples]\n",
    "test_tr_1000 = test_tr[:num_examples]"
   ]
  },
  {
   "cell_type": "code",
   "execution_count": 7,
   "metadata": {},
   "outputs": [],
   "source": [
    "import jsonlines\n",
    "test_tr_PATH = 'data/datasets/test_tr_1000.jsonl'\n",
    "test_de_PATH = 'data/datasets/test_de_1000.jsonl'\n",
    "\n",
    "with jsonlines.open(test_tr_PATH, mode='w') as writer:\n",
    "    for item in test_tr_1000:\n",
    "        writer.write(item)\n",
    "with jsonlines.open(test_de_PATH, mode='w') as writer:\n",
    "    for item in test_de_1000:\n",
    "        writer.write(item)"
   ]
  }
 ],
 "metadata": {
  "kernelspec": {
   "display_name": "env",
   "language": "python",
   "name": "python3"
  },
  "language_info": {
   "codemirror_mode": {
    "name": "ipython",
    "version": 3
   },
   "file_extension": ".py",
   "mimetype": "text/x-python",
   "name": "python",
   "nbconvert_exporter": "python",
   "pygments_lexer": "ipython3",
   "version": "3.9.13"
  }
 },
 "nbformat": 4,
 "nbformat_minor": 2
}
